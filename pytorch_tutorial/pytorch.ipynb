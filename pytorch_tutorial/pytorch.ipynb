{
 "cells": [
  {
   "cell_type": "code",
   "execution_count": 1,
   "metadata": {},
   "outputs": [],
   "source": [
    "import torch"
   ]
  },
  {
   "cell_type": "code",
   "execution_count": 2,
   "metadata": {},
   "outputs": [
    {
     "name": "stdout",
     "output_type": "stream",
     "text": [
      "Tensor : \n",
      " tensor([[ 0.5074,  0.4985, -1.1697, -1.1067, -0.6041],\n",
      "        [-0.3250,  2.9579, -0.1799,  0.3334, -0.0798]], requires_grad=True)\n",
      "device :  cpu\n",
      "a: tensor([[2.5074, 2.4985, 0.8303, 0.8933, 1.3959],\n",
      "        [1.6750, 4.9579, 1.8201, 2.3334, 1.9202]], grad_fn=<AddBackward0>) \n",
      " b : tensor([[-0.4139, -0.7604, -1.9714, -1.8819, -0.1336],\n",
      "        [-0.1130, -4.7638, -0.1702, -0.2524, -0.0717]], grad_fn=<MulBackward0>) \n",
      " c: tensor([[-5.1612, -1.4372],\n",
      "        [-4.0014, -5.3711]], grad_fn=<MmBackward0>)\n"
     ]
    }
   ],
   "source": [
    "\n",
    "x = torch.randn(2,5,requires_grad=True)\n",
    "y = torch.randn(5,2)\n",
    "print(f\"Tensor : \\n {x}\")\n",
    "\n",
    "device = \"cuda\" if torch.cuda.is_available() else \"cpu\"\n",
    "x = x.to(device)\n",
    "print(\"device : \", x.device)\n",
    "\n",
    "a = x + 2\n",
    "b = x * y.T\n",
    "c = torch.matmul(x,y)\n",
    "\n",
    "print(f\"a: {a} \\n b : {b} \\n c: {c}\")"
   ]
  },
  {
   "cell_type": "code",
   "execution_count": 3,
   "metadata": {},
   "outputs": [],
   "source": [
    "import torch.nn as nn"
   ]
  },
  {
   "cell_type": "code",
   "execution_count": 4,
   "metadata": {},
   "outputs": [
    {
     "name": "stdout",
     "output_type": "stream",
     "text": [
      "gradients of W:  tensor([[  3.5120,   1.7310,  38.0778],\n",
      "        [-10.1691,   5.1328,   9.5008],\n",
      "        [  1.8542,  -7.0999,  13.5316]])\n",
      "gradients of b:  tensor([ 22.7652, -13.4443,   7.3671])\n",
      "Gradients of linear_layer.weight:  tensor([[ 5.9470,  1.9529, -3.3295],\n",
      "        [ 0.6204,  1.9220,  1.6168],\n",
      "        [-2.7810, -8.7726, -8.4541]])\n"
     ]
    }
   ],
   "source": [
    "#learnable parameters\n",
    "W = torch.randn(3,3,requires_grad=True)\n",
    "b = torch.randn(3,requires_grad=True)\n",
    "\n",
    "#input tensor\n",
    "x = torch.randn(2,5,3)\n",
    "\n",
    "#manual forward pass\n",
    "y_manual = torch.matmul(x,W) + b\n",
    "\n",
    "#using nn\n",
    "linear_layer = nn.Linear(3,3)\n",
    "y_layer = linear_layer(x)\n",
    "\n",
    "loss_manual = (y_manual**2).sum()\n",
    "loss_layer = (y_layer**2).sum()\n",
    "\n",
    "loss_manual.backward()\n",
    "loss_layer.backward()\n",
    "\n",
    "print(\"gradients of W: \", W.grad)\n",
    "print(\"gradients of b: \", b.grad)\n",
    "\n",
    "print(\"Gradients of linear_layer.weight: \",linear_layer.weight.grad)"
   ]
  },
  {
   "cell_type": "code",
   "execution_count": 5,
   "metadata": {},
   "outputs": [
    {
     "name": "stdout",
     "output_type": "stream",
     "text": [
      "output: tensor([[ 0.0281],\n",
      "        [-0.0207],\n",
      "        [ 0.2064],\n",
      "        [ 0.0416],\n",
      "        [ 0.1367]], grad_fn=<AddmmBackward0>)\n"
     ]
    }
   ],
   "source": [
    "class SimpleNN(nn.Module):\n",
    "    def __init__(self):\n",
    "        super(SimpleNN,self).__init__()\n",
    "        self.layer1 = nn.Linear(10,64) #input of 10 features, output of 64 features\n",
    "        self.layer2 = nn.Linear(64,1) #ouput of 1\n",
    "    \n",
    "    def forward(self,x):\n",
    "        x = torch.relu(self.layer1(x))\n",
    "        x = self.layer2(x)\n",
    "        return x\n",
    "\n",
    "model = SimpleNN().to(device = \"cpu\")\n",
    "\n",
    "input_tensor = torch.randn(5,10)\n",
    "\n",
    "output = model(input_tensor)\n",
    "print(f\"output: {output}\")        \n",
    "        "
   ]
  },
  {
   "cell_type": "markdown",
   "metadata": {},
   "source": [
    "## MNIST problem"
   ]
  },
  {
   "cell_type": "code",
   "execution_count": 7,
   "metadata": {},
   "outputs": [],
   "source": [
    "import torch\n",
    "import torch.nn as nn\n",
    "import torch.optim as optim\n",
    "import torchvision\n",
    "import torchvision.transforms as transforms\n",
    "import matplotlib as plt"
   ]
  },
  {
   "cell_type": "code",
   "execution_count": 8,
   "metadata": {},
   "outputs": [],
   "source": [
    "#defining the transformatioin this will convert the image to tensors and we will also normalize it\n",
    "transform = transforms.Compose([\n",
    "    transforms.ToTensor(),\n",
    "    transforms.Normalize((0.5,),(0.5,))\n",
    "])\n",
    "\n",
    "#loading dataset from torchvision \n",
    "trainset = torchvision.datasets.MNIST(root='./data',train=True,download=True,transform=transform)\n",
    "testset = torchvision.datasets.MNIST(root='./data',train=False,download=True,transform=transform)\n",
    "\n",
    "#create a dataloader for batching and shuffling of the data\n",
    "trainloader = torch.utils.data.DataLoader(trainset,batch_size=64,shuffle=True)\n",
    "testloader = torch.utils.data.DataLoader(testset,batch_size=64,shuffle=True)\n"
   ]
  },
  {
   "cell_type": "code",
   "execution_count": 9,
   "metadata": {},
   "outputs": [],
   "source": [
    "#lets make the nn\n",
    "\n",
    "class mnistNN(nn.Module):\n",
    "    def __init__(self):\n",
    "        super(mnistNN,self).__init__()\n",
    "        self.layer1 = nn.Linear(28*28,128)\n",
    "        self.layer2 = nn.Linear(128,64)\n",
    "        self.layer3 = nn.Linear(64,10)\n",
    "        \n",
    "    def forward(self,x):\n",
    "        x = x.view(-1,28*28) #????\n",
    "        x = torch.relu(self.layer1(x))\n",
    "        x = torch.relu(self.layer2(x))\n",
    "        x = self.layer3(x)\n",
    "        return x"
   ]
  },
  {
   "cell_type": "code",
   "execution_count": 10,
   "metadata": {},
   "outputs": [],
   "source": [
    "model = mnistNN()\n",
    "\n",
    "criterion = nn.CrossEntropyLoss() #cross entropy loss for classification\n",
    "\n",
    "optimizer = optim.SGD(model.parameters(),lr=0.01,momentum=0.9)#what the fk is momentum"
   ]
  },
  {
   "cell_type": "code",
   "execution_count": 11,
   "metadata": {},
   "outputs": [
    {
     "name": "stdout",
     "output_type": "stream",
     "text": [
      "Epoch [1/5], loss: 0.4361, accuracy:86.60%\n",
      "Epoch [2/5], loss: 0.1795, accuracy:94.66%\n",
      "Epoch [3/5], loss: 0.1288, accuracy:96.12%\n",
      "Epoch [4/5], loss: 0.1046, accuracy:96.75%\n",
      "Epoch [5/5], loss: 0.0902, accuracy:97.12%\n"
     ]
    }
   ],
   "source": [
    "epochs = 5\n",
    "\n",
    "for epoch in range(epochs):\n",
    "    running_loss = 0.0 \n",
    "    correct = 0 \n",
    "    total = 0\n",
    "    \n",
    "    for inputs,labels in trainloader:    \n",
    "        optimizer.zero_grad() #zero the gradients\n",
    "        \n",
    "        outputs = model(inputs)\n",
    "        \n",
    "        loss = criterion(outputs,labels)\n",
    "        \n",
    "        loss.backward()\n",
    "        \n",
    "        optimizer.step()\n",
    "        \n",
    "        running_loss += loss.item() #loss.item() returns the scalar value held in the loss tensor\n",
    "        \n",
    "        _,predicted = torch.max(outputs.data,1)\n",
    "        \n",
    "        total += labels.size(0)\n",
    "        \n",
    "        correct += (predicted == labels).sum().item()  \n",
    "    \n",
    "    print(f\"Epoch [{epoch+1}/{epochs}], loss: {running_loss/len(trainloader):.4f}, accuracy:{100* correct/ total:.2f}%\")  "
   ]
  },
  {
   "cell_type": "code",
   "execution_count": 12,
   "metadata": {},
   "outputs": [
    {
     "name": "stdout",
     "output_type": "stream",
     "text": [
      "Accuracy of the network on the 10000 test images: 97.08%\n"
     ]
    }
   ],
   "source": [
    "correct = 0\n",
    "total = 0 \n",
    "\n",
    "with torch.no_grad():\n",
    "    for inputs,labels in testloader:\n",
    "        outputs = model(inputs)\n",
    "        _,predicted = torch.max(outputs.data,1)\n",
    "        total += labels.size(0)\n",
    "        correct += (predicted == labels).sum().item()\n",
    "        \n",
    "print(f\"Accuracy of the network on the 10000 test images: {100*correct/total}%\")"
   ]
  },
  {
   "cell_type": "code",
   "execution_count": 14,
   "metadata": {},
   "outputs": [],
   "source": [
    "#saving the model\n",
    "torch.save(model.state_dict(),\"mnist_nn.pth\")\n"
   ]
  },
  {
   "cell_type": "code",
   "execution_count": 15,
   "metadata": {},
   "outputs": [
    {
     "name": "stderr",
     "output_type": "stream",
     "text": [
      "C:\\Users\\KIIT\\AppData\\Local\\Temp\\ipykernel_5484\\334175879.py:3: FutureWarning: You are using `torch.load` with `weights_only=False` (the current default value), which uses the default pickle module implicitly. It is possible to construct malicious pickle data which will execute arbitrary code during unpickling (See https://github.com/pytorch/pytorch/blob/main/SECURITY.md#untrusted-models for more details). In a future release, the default value for `weights_only` will be flipped to `True`. This limits the functions that could be executed during unpickling. Arbitrary objects will no longer be allowed to be loaded via this mode unless they are explicitly allowlisted by the user via `torch.serialization.add_safe_globals`. We recommend you start setting `weights_only=True` for any use case where you don't have full control of the loaded file. Please open an issue on GitHub for any issues related to this experimental feature.\n",
      "  model.load_state_dict(torch.load(\"mnist_nn.pth\"))\n"
     ]
    },
    {
     "data": {
      "text/plain": [
       "<All keys matched successfully>"
      ]
     },
     "execution_count": 15,
     "metadata": {},
     "output_type": "execute_result"
    }
   ],
   "source": [
    "# Load the saved model state dictionary\n",
    "model = mnistNN()\n",
    "model.load_state_dict(torch.load(\"mnist_nn.pth\"))"
   ]
  },
  {
   "cell_type": "code",
   "execution_count": null,
   "metadata": {},
   "outputs": [],
   "source": []
  }
 ],
 "metadata": {
  "kernelspec": {
   "display_name": ".venv",
   "language": "python",
   "name": "python3"
  },
  "language_info": {
   "codemirror_mode": {
    "name": "ipython",
    "version": 3
   },
   "file_extension": ".py",
   "mimetype": "text/x-python",
   "name": "python",
   "nbconvert_exporter": "python",
   "pygments_lexer": "ipython3",
   "version": "3.12.3"
  }
 },
 "nbformat": 4,
 "nbformat_minor": 2
}
